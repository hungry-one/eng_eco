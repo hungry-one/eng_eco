{
  "nbformat": 4,
  "nbformat_minor": 0,
  "metadata": {
    "colab": {
      "name": "RNN_pred.ipynb",
      "provenance": [],
      "collapsed_sections": []
    },
    "kernelspec": {
      "name": "python3",
      "display_name": "Python 3"
    }
  },
  "cells": [
    {
      "cell_type": "code",
      "metadata": {
        "id": "sFKNdbzTcAO6",
        "colab": {
          "base_uri": "https://localhost:8080/"
        },
        "outputId": "05428429-e7a3-43eb-d7b6-e3e118b025af"
      },
      "source": [
        "!pip install geopandas\n",
        "!pip install descartes"
      ],
      "execution_count": null,
      "outputs": [
        {
          "output_type": "stream",
          "text": [
            "Collecting geopandas\n",
            "\u001b[?25l  Downloading https://files.pythonhosted.org/packages/f7/a4/e66aafbefcbb717813bf3a355c8c4fc3ed04ea1dd7feb2920f2f4f868921/geopandas-0.8.1-py2.py3-none-any.whl (962kB)\n",
            "\u001b[K     |████████████████████████████████| 972kB 4.3MB/s \n",
            "\u001b[?25hCollecting fiona\n",
            "\u001b[?25l  Downloading https://files.pythonhosted.org/packages/37/94/4910fd55246c1d963727b03885ead6ef1cd3748a465f7b0239ab25dfc9a3/Fiona-1.8.18-cp36-cp36m-manylinux1_x86_64.whl (14.8MB)\n",
            "\u001b[K     |████████████████████████████████| 14.8MB 308kB/s \n",
            "\u001b[?25hCollecting pyproj>=2.2.0\n",
            "\u001b[?25l  Downloading https://files.pythonhosted.org/packages/e4/ab/280e80a67cfc109d15428c0ec56391fc03a65857b7727cf4e6e6f99a4204/pyproj-3.0.0.post1-cp36-cp36m-manylinux2010_x86_64.whl (6.4MB)\n",
            "\u001b[K     |████████████████████████████████| 6.5MB 48.4MB/s \n",
            "\u001b[?25hRequirement already satisfied: pandas>=0.23.0 in /usr/local/lib/python3.6/dist-packages (from geopandas) (1.1.4)\n",
            "Requirement already satisfied: shapely in /usr/local/lib/python3.6/dist-packages (from geopandas) (1.7.1)\n",
            "Collecting cligj>=0.5\n",
            "  Downloading https://files.pythonhosted.org/packages/ba/06/e3440b1f2dc802d35f329f299ba96153e9fcbfdef75e17f4b61f79430c6a/cligj-0.7.0-py3-none-any.whl\n",
            "Requirement already satisfied: certifi in /usr/local/lib/python3.6/dist-packages (from fiona->geopandas) (2020.6.20)\n",
            "Requirement already satisfied: six>=1.7 in /usr/local/lib/python3.6/dist-packages (from fiona->geopandas) (1.15.0)\n",
            "Requirement already satisfied: click<8,>=4.0 in /usr/local/lib/python3.6/dist-packages (from fiona->geopandas) (7.1.2)\n",
            "Collecting munch\n",
            "  Downloading https://files.pythonhosted.org/packages/cc/ab/85d8da5c9a45e072301beb37ad7f833cd344e04c817d97e0cc75681d248f/munch-2.5.0-py2.py3-none-any.whl\n",
            "Requirement already satisfied: attrs>=17 in /usr/local/lib/python3.6/dist-packages (from fiona->geopandas) (20.2.0)\n",
            "Collecting click-plugins>=1.0\n",
            "  Downloading https://files.pythonhosted.org/packages/e9/da/824b92d9942f4e472702488857914bdd50f73021efea15b4cad9aca8ecef/click_plugins-1.1.1-py2.py3-none-any.whl\n",
            "Requirement already satisfied: numpy>=1.15.4 in /usr/local/lib/python3.6/dist-packages (from pandas>=0.23.0->geopandas) (1.18.5)\n",
            "Requirement already satisfied: python-dateutil>=2.7.3 in /usr/local/lib/python3.6/dist-packages (from pandas>=0.23.0->geopandas) (2.8.1)\n",
            "Requirement already satisfied: pytz>=2017.2 in /usr/local/lib/python3.6/dist-packages (from pandas>=0.23.0->geopandas) (2018.9)\n",
            "Installing collected packages: cligj, munch, click-plugins, fiona, pyproj, geopandas\n",
            "Successfully installed click-plugins-1.1.1 cligj-0.7.0 fiona-1.8.18 geopandas-0.8.1 munch-2.5.0 pyproj-3.0.0.post1\n",
            "Requirement already satisfied: descartes in /usr/local/lib/python3.6/dist-packages (1.1.0)\n",
            "Requirement already satisfied: matplotlib in /usr/local/lib/python3.6/dist-packages (from descartes) (3.2.2)\n",
            "Requirement already satisfied: python-dateutil>=2.1 in /usr/local/lib/python3.6/dist-packages (from matplotlib->descartes) (2.8.1)\n",
            "Requirement already satisfied: numpy>=1.11 in /usr/local/lib/python3.6/dist-packages (from matplotlib->descartes) (1.18.5)\n",
            "Requirement already satisfied: pyparsing!=2.0.4,!=2.1.2,!=2.1.6,>=2.0.1 in /usr/local/lib/python3.6/dist-packages (from matplotlib->descartes) (2.4.7)\n",
            "Requirement already satisfied: kiwisolver>=1.0.1 in /usr/local/lib/python3.6/dist-packages (from matplotlib->descartes) (1.3.1)\n",
            "Requirement already satisfied: cycler>=0.10 in /usr/local/lib/python3.6/dist-packages (from matplotlib->descartes) (0.10.0)\n",
            "Requirement already satisfied: six>=1.5 in /usr/local/lib/python3.6/dist-packages (from python-dateutil>=2.1->matplotlib->descartes) (1.15.0)\n"
          ],
          "name": "stdout"
        }
      ]
    },
    {
      "cell_type": "code",
      "metadata": {
        "id": "SH3KFEqYcOLB"
      },
      "source": [
        "import pandas as pd\n",
        "import tensorflow as tf\n",
        "from tensorflow.keras.layers import *\n",
        "import numpy as np\n",
        "from tensorflow.keras.models import Model\n",
        "from tensorflow.keras.optimizers import Adam\n",
        "import matplotlib.pyplot as plt"
      ],
      "execution_count": null,
      "outputs": []
    },
    {
      "cell_type": "code",
      "metadata": {
        "id": "retsKKApf4mU",
        "colab": {
          "base_uri": "https://localhost:8080/"
        },
        "outputId": "9e35e3e9-3278-40b7-b5de-0411834fc0c1"
      },
      "source": [
        "from google.colab import drive\n",
        "drive.mount(\"/content/gdrive\")"
      ],
      "execution_count": null,
      "outputs": [
        {
          "output_type": "stream",
          "text": [
            "Mounted at /content/gdrive\n"
          ],
          "name": "stdout"
        }
      ]
    },
    {
      "cell_type": "code",
      "metadata": {
        "id": "Gd8_V72NcbZG"
      },
      "source": [
        "csv_files = ['2000.csv','2001.csv','2002.csv','2003.csv','2004.csv','2005.csv','2006.csv','2007.csv','2008.csv','2009.csv','2010.csv','2011.csv','2012.csv','2013.csv','2014.csv','2015.csv','2016.csv','2017.csv','2018.csv','2019.csv',]\n",
        "root_dir = '/content/gdrive/My Drive/forecasting'\n",
        "df_2001 = pd.read_csv(root_dir+'/'+csv_files[1])"
      ],
      "execution_count": null,
      "outputs": []
    },
    {
      "cell_type": "code",
      "metadata": {
        "id": "2G_gS-R7f1pl",
        "colab": {
          "base_uri": "https://localhost:8080/",
          "height": 175
        },
        "outputId": "8a12d545-5850-42eb-d67f-2e4682a1d9e1"
      },
      "source": [
        "df_2001[df_2001['censuscode']==16]"
      ],
      "execution_count": null,
      "outputs": [
        {
          "output_type": "execute_result",
          "data": {
            "text/html": [
              "<div>\n",
              "<style scoped>\n",
              "    .dataframe tbody tr th:only-of-type {\n",
              "        vertical-align: middle;\n",
              "    }\n",
              "\n",
              "    .dataframe tbody tr th {\n",
              "        vertical-align: top;\n",
              "    }\n",
              "\n",
              "    .dataframe thead th {\n",
              "        text-align: right;\n",
              "    }\n",
              "</style>\n",
              "<table border=\"1\" class=\"dataframe\">\n",
              "  <thead>\n",
              "    <tr style=\"text-align: right;\">\n",
              "      <th></th>\n",
              "      <th>DISTRICT</th>\n",
              "      <th>DT_CEN_CD</th>\n",
              "      <th>ST_CEN_CD</th>\n",
              "      <th>ST_NM</th>\n",
              "      <th>censuscode</th>\n",
              "      <th>date</th>\n",
              "      <th>mean</th>\n",
              "    </tr>\n",
              "  </thead>\n",
              "  <tbody>\n",
              "    <tr>\n",
              "      <th>27</th>\n",
              "      <td>Doda</td>\n",
              "      <td>16</td>\n",
              "      <td>1</td>\n",
              "      <td>Jammu &amp; Kashmir</td>\n",
              "      <td>16</td>\n",
              "      <td>2001-01-01</td>\n",
              "      <td>167.311894</td>\n",
              "    </tr>\n",
              "    <tr>\n",
              "      <th>653</th>\n",
              "      <td>Doda</td>\n",
              "      <td>16</td>\n",
              "      <td>1</td>\n",
              "      <td>Jammu &amp; Kashmir</td>\n",
              "      <td>16</td>\n",
              "      <td>2001-04-01</td>\n",
              "      <td>185.736818</td>\n",
              "    </tr>\n",
              "    <tr>\n",
              "      <th>1307</th>\n",
              "      <td>Doda</td>\n",
              "      <td>16</td>\n",
              "      <td>1</td>\n",
              "      <td>Jammu &amp; Kashmir</td>\n",
              "      <td>16</td>\n",
              "      <td>2001-07-01</td>\n",
              "      <td>308.770629</td>\n",
              "    </tr>\n",
              "    <tr>\n",
              "      <th>1904</th>\n",
              "      <td>Doda</td>\n",
              "      <td>16</td>\n",
              "      <td>1</td>\n",
              "      <td>Jammu &amp; Kashmir</td>\n",
              "      <td>16</td>\n",
              "      <td>2001-10-01</td>\n",
              "      <td>168.086426</td>\n",
              "    </tr>\n",
              "  </tbody>\n",
              "</table>\n",
              "</div>"
            ],
            "text/plain": [
              "     DISTRICT  DT_CEN_CD  ST_CEN_CD  ... censuscode        date        mean\n",
              "27       Doda         16          1  ...         16  2001-01-01  167.311894\n",
              "653      Doda         16          1  ...         16  2001-04-01  185.736818\n",
              "1307     Doda         16          1  ...         16  2001-07-01  308.770629\n",
              "1904     Doda         16          1  ...         16  2001-10-01  168.086426\n",
              "\n",
              "[4 rows x 7 columns]"
            ]
          },
          "metadata": {
            "tags": []
          },
          "execution_count": 5
        }
      ]
    },
    {
      "cell_type": "code",
      "metadata": {
        "id": "GdcYH0OUgp6x"
      },
      "source": [
        "\"\"\"\n",
        "datapoints = []\n",
        "\n",
        "for i in range(641):\n",
        "    datapoint = []\n",
        "    for csv_file in csv_files[:-1]:\n",
        "        csv_file = pd.read_csv(root_dir+'/'+csv_file)\n",
        "        datapoint = datapoint + csv_file[csv_file['censuscode'] == i].iloc[:]['mean'].to_list()\n",
        "    if len(datapoint) <11:\n",
        "        k = sum(datapoint)/len(datapoint)\n",
        "        l = len(datapoint)\n",
        "        datapoint = datapoint + [k]*(11-l)\n",
        "    datapoints.append(datapoint)\n",
        "labels = []\n",
        "for i in range(641):\n",
        "    datapoint = []\n",
        "    for csv_file in csv_files[3:]:\n",
        "        csv_file = pd.read_csv(root_dir+'/'+csv_file)\n",
        "        datapoint =datapoint+ csv_file[csv_file['censuscode'] == i].iloc[:]['mean'].to_list()\n",
        "    if len(datapoint)<4:\n",
        "        k = sum(datapoint)/len(datapoint)\n",
        "        l = len(datapoint)\n",
        "        datapoint = datapoint+[k]*(4-l)\n",
        "    assert len(datapoint)==4\n",
        "    labels.append(datapoint)\n",
        "\n",
        "\"\"\""
      ],
      "execution_count": null,
      "outputs": []
    },
    {
      "cell_type": "code",
      "metadata": {
        "id": "1_NYQopY0bcE"
      },
      "source": [
        "labels=[]\n",
        "datapoints= []\n",
        "for r in range(17):\n",
        "  for i in range(641):\n",
        "    datapoint = []\n",
        "    for csv_file in csv_files[r:r+3]:\n",
        "        csv_file = pd.read_csv(root_dir+'/'+csv_file)\n",
        "        datapoint = datapoint + csv_file[csv_file['censuscode'] == i].iloc[:]['mean'].to_list()\n",
        "    if len(datapoint) <12:\n",
        "        k = sum(datapoint)/len(datapoint)\n",
        "        l = len(datapoint)\n",
        "        datapoint = datapoint + [k]*(12-l)\n",
        "    datapoints.append(datapoint)\n",
        "\n",
        "  for i in range(641):\n",
        "    datapoint = []\n",
        "    for csv_file in {csv_files[r+3]}:\n",
        "        csv_file = pd.read_csv(root_dir+'/'+csv_file)\n",
        "        datapoint =datapoint+ csv_file[csv_file['censuscode'] == i].iloc[:]['mean'].to_list()\n",
        "    if len(datapoint)<4:\n",
        "        k = sum(datapoint)/len(datapoint)\n",
        "        l = len(datapoint)\n",
        "        datapoint = datapoint+[k]*(4-l)\n",
        "    assert len(datapoint)==4\n",
        "    labels.append(datapoint)"
      ],
      "execution_count": null,
      "outputs": []
    },
    {
      "cell_type": "code",
      "metadata": {
        "id": "ef4b__bujf5_",
        "colab": {
          "base_uri": "https://localhost:8080/"
        },
        "outputId": "d6d7be43-98dd-4b11-e847-c4c670d518f1"
      },
      "source": [
        "datapoints = np.asarray(datapoints)\n",
        "labels = np.asarray(labels)\n",
        "print(\"shape of input : {}\".format(datapoints.shape))\n",
        "print(\"shape of labels : {}\".format(labels.shape))"
      ],
      "execution_count": null,
      "outputs": [
        {
          "output_type": "stream",
          "text": [
            "shape of input : (10897, 12)\n",
            "shape of labels : (10897, 4)\n"
          ],
          "name": "stdout"
        }
      ]
    },
    {
      "cell_type": "code",
      "metadata": {
        "id": "lHJq3vVejkO7",
        "colab": {
          "base_uri": "https://localhost:8080/"
        },
        "outputId": "bfe42c0f-4ff0-4733-c9bb-ec096514f649"
      },
      "source": [
        "#model\n",
        "input_ = Input((11,1))\n",
        "layer1 = LSTM(6)(input_)\n",
        "layer2 = Dense(4,activation='relu')(layer1)\n",
        "model = Model(input_,layer2)\n",
        "model.summary()"
      ],
      "execution_count": null,
      "outputs": [
        {
          "output_type": "stream",
          "text": [
            "Model: \"functional_1\"\n",
            "_________________________________________________________________\n",
            "Layer (type)                 Output Shape              Param #   \n",
            "=================================================================\n",
            "input_1 (InputLayer)         [(None, 11, 1)]           0         \n",
            "_________________________________________________________________\n",
            "lstm (LSTM)                  (None, 6)                 192       \n",
            "_________________________________________________________________\n",
            "dense (Dense)                (None, 4)                 28        \n",
            "=================================================================\n",
            "Total params: 220\n",
            "Trainable params: 220\n",
            "Non-trainable params: 0\n",
            "_________________________________________________________________\n"
          ],
          "name": "stdout"
        }
      ]
    },
    {
      "cell_type": "code",
      "metadata": {
        "id": "9Yhr0YtFoH-r",
        "colab": {
          "base_uri": "https://localhost:8080/"
        },
        "outputId": "2d5fc647-8e31-42d1-87fa-7990485eb894"
      },
      "source": [
        "norm1 = np.linalg.norm(datapoints)\n",
        "avg_datapoints = datapoints/norm1\n",
        "avg_labels = labels/np.linalg.norm(labels)\n",
        "norm2 = np.linalg.norm(labels)\n",
        "model.compile(Adam(lr=0.001),loss='mse')\n",
        "history = model.fit(avg_datapoints,avg_labels,epochs=30)"
      ],
      "execution_count": null,
      "outputs": [
        {
          "output_type": "stream",
          "text": [
            "Epoch 1/30\n",
            "WARNING:tensorflow:Model was constructed with shape (None, 11, 1) for input Tensor(\"input_1:0\", shape=(None, 11, 1), dtype=float32), but it was called on an input with incompatible shape (None, 12, 1).\n",
            "WARNING:tensorflow:Model was constructed with shape (None, 11, 1) for input Tensor(\"input_1:0\", shape=(None, 11, 1), dtype=float32), but it was called on an input with incompatible shape (None, 12, 1).\n",
            "341/341 [==============================] - 2s 5ms/step - loss: 8.1761e-06\n",
            "Epoch 2/30\n",
            "341/341 [==============================] - 1s 4ms/step - loss: 7.6586e-06\n",
            "Epoch 3/30\n",
            "341/341 [==============================] - 2s 4ms/step - loss: 7.1665e-06\n",
            "Epoch 4/30\n",
            "341/341 [==============================] - 1s 4ms/step - loss: 7.1219e-06\n",
            "Epoch 5/30\n",
            "341/341 [==============================] - 2s 4ms/step - loss: 7.0755e-06\n",
            "Epoch 6/30\n",
            "341/341 [==============================] - 2s 5ms/step - loss: 7.0728e-06\n",
            "Epoch 7/30\n",
            "341/341 [==============================] - 1s 4ms/step - loss: 7.0491e-06\n",
            "Epoch 8/30\n",
            "341/341 [==============================] - 1s 4ms/step - loss: 7.0409e-06\n",
            "Epoch 9/30\n",
            "341/341 [==============================] - 1s 4ms/step - loss: 7.0599e-06\n",
            "Epoch 10/30\n",
            "341/341 [==============================] - 1s 4ms/step - loss: 7.0700e-06\n",
            "Epoch 11/30\n",
            "341/341 [==============================] - 1s 4ms/step - loss: 7.0572e-06\n",
            "Epoch 12/30\n",
            "341/341 [==============================] - 1s 4ms/step - loss: 7.0290e-06\n",
            "Epoch 13/30\n",
            "341/341 [==============================] - 1s 4ms/step - loss: 7.0405e-06\n",
            "Epoch 14/30\n",
            "341/341 [==============================] - 1s 4ms/step - loss: 7.0940e-06\n",
            "Epoch 15/30\n",
            "341/341 [==============================] - 1s 4ms/step - loss: 7.0341e-06\n",
            "Epoch 16/30\n",
            "341/341 [==============================] - 1s 4ms/step - loss: 7.0505e-06\n",
            "Epoch 17/30\n",
            "341/341 [==============================] - 1s 4ms/step - loss: 7.0813e-06\n",
            "Epoch 18/30\n",
            "341/341 [==============================] - 2s 5ms/step - loss: 7.0317e-06\n",
            "Epoch 19/30\n",
            "341/341 [==============================] - 1s 4ms/step - loss: 7.0653e-06\n",
            "Epoch 20/30\n",
            "341/341 [==============================] - 1s 4ms/step - loss: 7.0116e-06\n",
            "Epoch 21/30\n",
            "341/341 [==============================] - 1s 4ms/step - loss: 7.0116e-06\n",
            "Epoch 22/30\n",
            "341/341 [==============================] - 1s 4ms/step - loss: 7.0262e-06\n",
            "Epoch 23/30\n",
            "341/341 [==============================] - 1s 4ms/step - loss: 7.0266e-06\n",
            "Epoch 24/30\n",
            "341/341 [==============================] - 1s 4ms/step - loss: 7.0615e-06\n",
            "Epoch 25/30\n",
            "341/341 [==============================] - 1s 4ms/step - loss: 7.0313e-06\n",
            "Epoch 26/30\n",
            "341/341 [==============================] - 1s 4ms/step - loss: 7.0431e-06\n",
            "Epoch 27/30\n",
            "341/341 [==============================] - 1s 4ms/step - loss: 7.0002e-06\n",
            "Epoch 28/30\n",
            "341/341 [==============================] - 1s 4ms/step - loss: 7.0037e-06\n",
            "Epoch 29/30\n",
            "341/341 [==============================] - 2s 4ms/step - loss: 7.0507e-06\n",
            "Epoch 30/30\n",
            "341/341 [==============================] - 1s 4ms/step - loss: 7.0167e-06\n"
          ],
          "name": "stdout"
        }
      ]
    },
    {
      "cell_type": "code",
      "metadata": {
        "id": "T_ucndpWoz19",
        "colab": {
          "base_uri": "https://localhost:8080/"
        },
        "outputId": "995fdced-9366-4f12-b53f-d4255482bb19"
      },
      "source": [
        "def get_2004(csv2001,csv2002,csv2003):\n",
        "    datapoints = []\n",
        "    print(\"loading_data...\")\n",
        "    for i in range(641):\n",
        "        datapoint = []\n",
        "        for csv_file_ in [csv2001,csv2002,csv2003]:\n",
        "            csv_file = pd.read_csv(root_dir+'/'+csv_file_)\n",
        "            datapoint = datapoint + csv_file[csv_file['censuscode'] == i].iloc[:]['mean'].to_list()\n",
        "        if len(datapoint)!=12:\n",
        "            k = sum(datapoint)/len(datapoint)\n",
        "            l = len(datapoint)\n",
        "            datapoint = datapoint + [k]*(12-l)\n",
        "        datapoints.append(datapoint)\n",
        "    print(\"loading data done...\")\n",
        "\n",
        "    datapoints = np.asarray(datapoints)\n",
        "    datapoints = datapoints[:,1:]/norm1\n",
        "    print(\"predicting...\")\n",
        "    data_2004 = model.predict(datapoints,verbose=1)\n",
        "    data_2004 = data_2004*norm2\n",
        "    return data_2004\n",
        "data = get_2004('2001.csv','2002.csv','2003.csv')"
      ],
      "execution_count": null,
      "outputs": [
        {
          "output_type": "stream",
          "text": [
            "loading_data...\n",
            "loading data done...\n",
            "predicting...\n",
            "21/21 [==============================] - 0s 2ms/step\n"
          ],
          "name": "stdout"
        }
      ]
    },
    {
      "cell_type": "code",
      "metadata": {
        "id": "khtu6HuWxCU3",
        "colab": {
          "base_uri": "https://localhost:8080/"
        },
        "outputId": "8202d315-9060-44e1-c3f9-9d89a68ee3b5"
      },
      "source": [
        "data.shape"
      ],
      "execution_count": null,
      "outputs": [
        {
          "output_type": "execute_result",
          "data": {
            "text/plain": [
              "(641, 4)"
            ]
          },
          "metadata": {
            "tags": []
          },
          "execution_count": 11
        }
      ]
    },
    {
      "cell_type": "code",
      "metadata": {
        "id": "83HcRTn-xHwX",
        "colab": {
          "base_uri": "https://localhost:8080/"
        },
        "outputId": "1a9c8976-1b71-4547-b2ca-e164308c04a3"
      },
      "source": [
        "data"
      ],
      "execution_count": null,
      "outputs": [
        {
          "output_type": "execute_result",
          "data": {
            "text/plain": [
              "array([[  0.      , 352.1465  , 188.65224 ,  31.387178],\n",
              "       [  0.      , 379.71875 , 281.5581  , 115.326996],\n",
              "       [  0.      , 387.4791  , 310.81036 , 141.23546 ],\n",
              "       ...,\n",
              "       [  0.      , 378.3599  , 263.94196 ,  99.98488 ],\n",
              "       [  0.      , 391.71228 , 360.4267  , 181.79271 ],\n",
              "       [  0.      , 396.64255 , 354.92273 , 178.80615 ]], dtype=float32)"
            ]
          },
          "metadata": {
            "tags": []
          },
          "execution_count": 13
        }
      ]
    },
    {
      "cell_type": "code",
      "metadata": {
        "id": "tm025ZUbiNrt"
      },
      "source": [
        ""
      ],
      "execution_count": null,
      "outputs": []
    }
  ]
}